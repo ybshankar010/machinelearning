{
 "cells": [
  {
   "cell_type": "markdown",
   "metadata": {
    "collapsed": true
   },
   "source": [
    "# GROUPO BIMBO DATA VISUALIZATION"
   ]
  },
  {
   "cell_type": "code",
   "execution_count": 17,
   "metadata": {
    "collapsed": true
   },
   "outputs": [],
   "source": [
    "train_f_name = 'train_trim.csv'\n",
    "train_dtypes = {'Semana': 'int32',\n",
    "                'Producto_ID':'int32', \n",
    "                'Venta_hoy':'float32',\n",
    "                'Venta_uni_hoy': 'int32',\n",
    "                'Dev_uni_proxima':'int32',\n",
    "                'Dev_proxima':'float32',\n",
    "                'Demanda_uni_equil':'int32'}"
   ]
  },
  {
   "cell_type": "code",
   "execution_count": 18,
   "metadata": {
    "collapsed": false
   },
   "outputs": [
    {
     "name": "stdout",
     "output_type": "stream",
     "text": [
      "Semana                 int32\n",
      "Agencia_ID             int64\n",
      "Canal_ID               int64\n",
      "Ruta_SAK               int64\n",
      "Cliente_ID             int64\n",
      "Producto_ID            int32\n",
      "Venta_uni_hoy          int32\n",
      "Venta_hoy            float32\n",
      "Dev_uni_proxima        int32\n",
      "Dev_proxima          float32\n",
      "Demanda_uni_equil      int32\n",
      "dtype: object\n"
     ]
    }
   ],
   "source": [
    "import pandas as pd\n",
    "\n",
    "df_train = pd.read_csv(train_f_name,dtype  = train_dtypes)\n",
    "print(df_train.dtypes)"
   ]
  }
 ],
 "metadata": {
  "anaconda-cloud": {},
  "kernelspec": {
   "display_name": "Python [Root]",
   "language": "python",
   "name": "Python [Root]"
  },
  "language_info": {
   "codemirror_mode": {
    "name": "ipython",
    "version": 3
   },
   "file_extension": ".py",
   "mimetype": "text/x-python",
   "name": "python",
   "nbconvert_exporter": "python",
   "pygments_lexer": "ipython3",
   "version": "3.5.2"
  }
 },
 "nbformat": 4,
 "nbformat_minor": 0
}

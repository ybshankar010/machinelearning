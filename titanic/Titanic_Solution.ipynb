{
 "cells": [
  {
   "cell_type": "code",
   "execution_count": 1,
   "metadata": {},
   "outputs": [],
   "source": [
    "import pandas as pd\n",
    "import numpy as np\n",
    "import matplotlib.pyplot as plt\n",
    "import seaborn as sns\n",
    "from scipy import stats\n",
    "from sklearn import model_selection, preprocessing,linear_model, metrics, pipeline , ensemble,neighbors\n",
    "\n",
    "plt.style.use(\"ggplot\")\n",
    "plt.rcParams['figure.figsize'] = [10.0, 6.0]\n",
    "\n",
    "%matplotlib inline"
   ]
  },
  {
   "cell_type": "code",
   "execution_count": 2,
   "metadata": {},
   "outputs": [],
   "source": [
    "train = pd.read_csv('../../datasets/titanic/train.csv')\n",
    "test = pd.read_csv('../../datasets/titanic/test.csv')"
   ]
  },
  {
   "cell_type": "code",
   "execution_count": 3,
   "metadata": {},
   "outputs": [],
   "source": [
    "train['Pclass'] = train['Pclass'].astype('object')\n",
    "test['Pclass'] = test['Pclass'].astype('object')"
   ]
  },
  {
   "cell_type": "code",
   "execution_count": 4,
   "metadata": {},
   "outputs": [
    {
     "name": "stdout",
     "output_type": "stream",
     "text": [
      "<class 'pandas.core.frame.DataFrame'>\n",
      "RangeIndex: 891 entries, 0 to 890\n",
      "Data columns (total 12 columns):\n",
      "PassengerId    891 non-null int64\n",
      "Survived       891 non-null int64\n",
      "Pclass         891 non-null object\n",
      "Name           891 non-null object\n",
      "Sex            891 non-null object\n",
      "Age            714 non-null float64\n",
      "SibSp          891 non-null int64\n",
      "Parch          891 non-null int64\n",
      "Ticket         891 non-null object\n",
      "Fare           891 non-null float64\n",
      "Cabin          204 non-null object\n",
      "Embarked       889 non-null object\n",
      "dtypes: float64(2), int64(4), object(6)\n",
      "memory usage: 83.6+ KB\n"
     ]
    }
   ],
   "source": [
    "train.info()"
   ]
  },
  {
   "cell_type": "code",
   "execution_count": 5,
   "metadata": {},
   "outputs": [
    {
     "name": "stdout",
     "output_type": "stream",
     "text": [
      "<class 'pandas.core.frame.DataFrame'>\n",
      "RangeIndex: 418 entries, 0 to 417\n",
      "Data columns (total 11 columns):\n",
      "PassengerId    418 non-null int64\n",
      "Pclass         418 non-null object\n",
      "Name           418 non-null object\n",
      "Sex            418 non-null object\n",
      "Age            332 non-null float64\n",
      "SibSp          418 non-null int64\n",
      "Parch          418 non-null int64\n",
      "Ticket         418 non-null object\n",
      "Fare           417 non-null float64\n",
      "Cabin          91 non-null object\n",
      "Embarked       418 non-null object\n",
      "dtypes: float64(2), int64(3), object(6)\n",
      "memory usage: 36.0+ KB\n"
     ]
    }
   ],
   "source": [
    "test.info()"
   ]
  },
  {
   "cell_type": "code",
   "execution_count": 6,
   "metadata": {},
   "outputs": [
    {
     "data": {
      "text/plain": [
       "(['Pclass', 'Sex', 'Age', 'SibSp', 'Parch', 'Fare', 'Embarked'], 'Survived')"
      ]
     },
     "execution_count": 6,
     "metadata": {},
     "output_type": "execute_result"
    }
   ],
   "source": [
    "target = 'Survived'\n",
    "features = list(train.columns)\n",
    "features.remove('PassengerId')\n",
    "features.remove('Name')\n",
    "features.remove('Cabin')\n",
    "features.remove('Ticket')\n",
    "features.remove(target)\n",
    "features , target"
   ]
  },
  {
   "cell_type": "code",
   "execution_count": 7,
   "metadata": {},
   "outputs": [],
   "source": [
    "medians = train.dropna().groupby('Sex')['Age'].median()\n",
    "for i in train[train['Age'].isnull()].index:\n",
    "    train.loc[i,'Age'] = medians[train.loc[i,'Sex']]\n",
    "    \n",
    "for i in test[test['Age'].isnull()].index:\n",
    "    test.loc[i,'Age'] = medians[test.loc[i,'Sex']]\n",
    "    \n",
    "fare_mean = train.Fare.mean()\n",
    "for i in test[test['Fare'].isnull()].index:\n",
    "    test.loc[i,'Fare'] = fare_mean"
   ]
  },
  {
   "cell_type": "code",
   "execution_count": 8,
   "metadata": {},
   "outputs": [],
   "source": [
    "def preprocess(df,features = None,target = None):\n",
    "    X = df.loc[:,features]\n",
    "    X = pd.get_dummies(X, drop_first= True)\n",
    "    y = []\n",
    "    if target != None:\n",
    "        y = df.loc[:,target]\n",
    "    \n",
    "    return X,y"
   ]
  },
  {
   "cell_type": "code",
   "execution_count": 31,
   "metadata": {},
   "outputs": [],
   "source": [
    "def lr_model(train_X,train_y,test_X):\n",
    "    est = pipeline.Pipeline([\n",
    "        (\"poly\", preprocessing.PolynomialFeatures(degree=2, include_bias=False)),\n",
    "        (\"scaler\", preprocessing.StandardScaler()),\n",
    "        (\"lr\", linear_model.LogisticRegression(random_state=1,penalty='l1'))\n",
    "    ])\n",
    "    est.fit(train_X,train_y)\n",
    "\n",
    "    y_train_pred = est.predict(train_X)\n",
    "    y_train_prob = est.predict_proba(train_X)[:,1]\n",
    "    \n",
    "    y_test_pred = est.predict(test_X)\n",
    "    y_test_prob = est.predict_proba(test_X)[:,1]\n",
    "    return y_train_prob,y_test_prob\n",
    "\n",
    "def rf_model(train_X,train_y,test_X):\n",
    "    est = pipeline.Pipeline([\n",
    "#         (\"poly\", preprocessing.PolynomialFeatures(degree=2, include_bias=False)),\n",
    "#         (\"scaler\", preprocessing.StandardScaler()),\n",
    "        (\"rf\", ensemble.RandomForestClassifier(random_state=1))\n",
    "    ])\n",
    "    est.fit(train_X,train_y)\n",
    "\n",
    "    y_train_pred = est.predict(train_X)\n",
    "    y_train_prob = est.predict_proba(train_X)[:,1]\n",
    "    \n",
    "    y_test_pred = est.predict(test_X)\n",
    "    y_test_prob = est.predict_proba(test_X)[:,1]\n",
    "    return y_train_prob,y_test_prob\n",
    "\n",
    "def knn_model(train_X,train_y,test_X):\n",
    "    est = pipeline.Pipeline([\n",
    "#         (\"poly\", preprocessing.PolynomialFeatures(degree=2, include_bias=False)),\n",
    "        (\"scaler\", preprocessing.StandardScaler()),\n",
    "        (\"knn\", neighbors.KNeighborsClassifier(n_neighbors=10))\n",
    "    ])\n",
    "    est.fit(train_X,train_y)\n",
    "\n",
    "    y_train_pred = est.predict(train_X)\n",
    "    y_train_prob = est.predict_proba(train_X)[:,1]\n",
    "    \n",
    "    y_test_pred = est.predict(test_X)\n",
    "    y_test_prob = est.predict_proba(test_X)[:,1]\n",
    "    return y_train_prob,y_test_prob\n",
    "\n",
    "def ensemble_model(train_X,train_y,test_X):\n",
    "    clf1 = pipeline.Pipeline([\n",
    "        (\"poly\", preprocessing.PolynomialFeatures(degree=2, include_bias=False)),\n",
    "        (\"scaler\", preprocessing.StandardScaler()),\n",
    "        (\"lr\", linear_model.LogisticRegression(random_state=1,penalty='l1'))\n",
    "    ])\n",
    "    \n",
    "    clf2 = pipeline.Pipeline([\n",
    "        (\"rf\", ensemble.RandomForestClassifier(random_state=1))\n",
    "    ])\n",
    "    \n",
    "    clf3 = pipeline.Pipeline([\n",
    "        (\"scaler\", preprocessing.StandardScaler()),\n",
    "        (\"knn\", neighbors.KNeighborsClassifier(n_neighbors=10))\n",
    "    ])\n",
    "    \n",
    "    est = ensemble.VotingClassifier(estimators=[(\"lr\",clf1),(\"rf\",clf2),(\"knn\",clf3)],voting='soft')\n",
    "    est.fit(train_X,train_y)\n",
    "\n",
    "    y_train_pred = est.predict(train_X)\n",
    "    y_train_prob = est.predict_proba(train_X)[:,1]\n",
    "    \n",
    "    y_test_pred = est.predict(test_X)\n",
    "    y_test_prob = est.predict_proba(test_X)[:,1]\n",
    "    return y_train_prob,y_test_prob"
   ]
  },
  {
   "cell_type": "code",
   "execution_count": 22,
   "metadata": {},
   "outputs": [],
   "source": [
    "def print_val(y_test,y_pred_prob,threshold = 0.5):\n",
    "    y_test_pred = np.where(y_pred_prob > threshold , 1, 0)\n",
    "    \n",
    "    print(\"Accuracy :: %.3f\" % metrics.accuracy_score(y_true=y_test,y_pred=y_test_pred))\n",
    "    print(\"Precision :: %.3f\" % metrics.precision_score(y_true=y_test,y_pred=y_test_pred))\n",
    "    print(\"Recall :: %.3f\" % metrics.recall_score(y_true=y_test,y_pred=y_test_pred))\n",
    "    \n",
    "    confusion_matrix = metrics.confusion_matrix(y_true=y_test,y_pred=y_test_pred)\n",
    "    print(confusion_matrix)\n",
    "    return\n",
    "    "
   ]
  },
  {
   "cell_type": "code",
   "execution_count": 23,
   "metadata": {},
   "outputs": [],
   "source": [
    "X,y = preprocess(train,features=features,target=target)"
   ]
  },
  {
   "cell_type": "code",
   "execution_count": 24,
   "metadata": {},
   "outputs": [
    {
     "data": {
      "text/plain": [
       "((891, 9), (891,))"
      ]
     },
     "execution_count": 24,
     "metadata": {},
     "output_type": "execute_result"
    }
   ],
   "source": [
    "X.shape,y.shape"
   ]
  },
  {
   "cell_type": "code",
   "execution_count": 25,
   "metadata": {},
   "outputs": [
    {
     "data": {
      "text/html": [
       "<div>\n",
       "<style scoped>\n",
       "    .dataframe tbody tr th:only-of-type {\n",
       "        vertical-align: middle;\n",
       "    }\n",
       "\n",
       "    .dataframe tbody tr th {\n",
       "        vertical-align: top;\n",
       "    }\n",
       "\n",
       "    .dataframe thead th {\n",
       "        text-align: right;\n",
       "    }\n",
       "</style>\n",
       "<table border=\"1\" class=\"dataframe\">\n",
       "  <thead>\n",
       "    <tr style=\"text-align: right;\">\n",
       "      <th></th>\n",
       "      <th>Age</th>\n",
       "      <th>SibSp</th>\n",
       "      <th>Parch</th>\n",
       "      <th>Fare</th>\n",
       "      <th>Pclass_2</th>\n",
       "      <th>Pclass_3</th>\n",
       "      <th>Sex_male</th>\n",
       "      <th>Embarked_Q</th>\n",
       "      <th>Embarked_S</th>\n",
       "    </tr>\n",
       "  </thead>\n",
       "  <tbody>\n",
       "    <tr>\n",
       "      <th>0</th>\n",
       "      <td>22.0</td>\n",
       "      <td>1</td>\n",
       "      <td>0</td>\n",
       "      <td>7.2500</td>\n",
       "      <td>0</td>\n",
       "      <td>1</td>\n",
       "      <td>1</td>\n",
       "      <td>0</td>\n",
       "      <td>1</td>\n",
       "    </tr>\n",
       "    <tr>\n",
       "      <th>1</th>\n",
       "      <td>38.0</td>\n",
       "      <td>1</td>\n",
       "      <td>0</td>\n",
       "      <td>71.2833</td>\n",
       "      <td>0</td>\n",
       "      <td>0</td>\n",
       "      <td>0</td>\n",
       "      <td>0</td>\n",
       "      <td>0</td>\n",
       "    </tr>\n",
       "    <tr>\n",
       "      <th>2</th>\n",
       "      <td>26.0</td>\n",
       "      <td>0</td>\n",
       "      <td>0</td>\n",
       "      <td>7.9250</td>\n",
       "      <td>0</td>\n",
       "      <td>1</td>\n",
       "      <td>0</td>\n",
       "      <td>0</td>\n",
       "      <td>1</td>\n",
       "    </tr>\n",
       "    <tr>\n",
       "      <th>3</th>\n",
       "      <td>35.0</td>\n",
       "      <td>1</td>\n",
       "      <td>0</td>\n",
       "      <td>53.1000</td>\n",
       "      <td>0</td>\n",
       "      <td>0</td>\n",
       "      <td>0</td>\n",
       "      <td>0</td>\n",
       "      <td>1</td>\n",
       "    </tr>\n",
       "    <tr>\n",
       "      <th>4</th>\n",
       "      <td>35.0</td>\n",
       "      <td>0</td>\n",
       "      <td>0</td>\n",
       "      <td>8.0500</td>\n",
       "      <td>0</td>\n",
       "      <td>1</td>\n",
       "      <td>1</td>\n",
       "      <td>0</td>\n",
       "      <td>1</td>\n",
       "    </tr>\n",
       "  </tbody>\n",
       "</table>\n",
       "</div>"
      ],
      "text/plain": [
       "    Age  SibSp  Parch     Fare  Pclass_2  Pclass_3  Sex_male  Embarked_Q  \\\n",
       "0  22.0      1      0   7.2500         0         1         1           0   \n",
       "1  38.0      1      0  71.2833         0         0         0           0   \n",
       "2  26.0      0      0   7.9250         0         1         0           0   \n",
       "3  35.0      1      0  53.1000         0         0         0           0   \n",
       "4  35.0      0      0   8.0500         0         1         1           0   \n",
       "\n",
       "   Embarked_S  \n",
       "0           1  \n",
       "1           0  \n",
       "2           1  \n",
       "3           1  \n",
       "4           1  "
      ]
     },
     "execution_count": 25,
     "metadata": {},
     "output_type": "execute_result"
    }
   ],
   "source": [
    "X.head()"
   ]
  },
  {
   "cell_type": "code",
   "execution_count": 26,
   "metadata": {},
   "outputs": [],
   "source": [
    "X_train, X_test, y_train,y_test = model_selection.train_test_split(X,y, test_size = 0.3, random_state = 1)"
   ]
  },
  {
   "cell_type": "code",
   "execution_count": 36,
   "metadata": {},
   "outputs": [],
   "source": [
    "lr_train_prob,lr_test_prob = lr_model(X_train,y_train,X_test)\n",
    "rf_train_prob,rf_test_prob = rf_model(X_train,y_train,X_test)\n",
    "knn_train_prob,knn_test_prob = knn_model(X_train,y_train,X_test)\n",
    "ensemble_train_prob,ensemble_test_prob = ensemble_model(X_train,y_train,X_test)"
   ]
  },
  {
   "cell_type": "code",
   "execution_count": 37,
   "metadata": {},
   "outputs": [
    {
     "data": {
      "text/plain": [
       "Text(0.5,1,'ROC, auc: 0.850980')"
      ]
     },
     "execution_count": 37,
     "metadata": {},
     "output_type": "execute_result"
    },
    {
     "data": {
      "image/png": "[encoded data removed]",
      "text/plain": [
       "<Figure size 432x288 with 1 Axes>"
      ]
     },
     "metadata": {},
     "output_type": "display_data"
    }
   ],
   "source": [
    "fpr, tpr, threshold = metrics.roc_curve(y_test, ensemble_test_prob)\n",
    "\n",
    "plt.plot(fpr, tpr)\n",
    "plt.xlabel(\"FPR\")\n",
    "plt.ylabel(\"TPR\")\n",
    "plt.title(\"ROC, auc: %f\" % (metrics.auc(fpr, tpr)))"
   ]
  },
  {
   "cell_type": "code",
   "execution_count": 57,
   "metadata": {},
   "outputs": [
    {
     "name": "stdout",
     "output_type": "stream",
     "text": [
      "--------Train------------\n",
      "Accuracy :: 0.923\n",
      "Precision :: 0.932\n",
      "Recall :: 0.850\n",
      "[[382  14]\n",
      " [ 34 193]]\n",
      "--------Test------------\n",
      "Accuracy :: 0.802\n",
      "Precision :: 0.844\n",
      "Recall :: 0.661\n",
      "[[139  14]\n",
      " [ 39  76]]\n"
     ]
    }
   ],
   "source": [
    "threshold = 0.44\n",
    "print(\"--------Train------------\")\n",
    "print_val(y_train,ensemble_train_prob,threshold)\n",
    "print(\"--------Test------------\")\n",
    "print_val(y_test,ensemble_test_prob,threshold)"
   ]
  },
  {
   "cell_type": "code",
   "execution_count": 58,
   "metadata": {
    "scrolled": true
   },
   "outputs": [],
   "source": [
    "X_submission,y_submission = preprocess(test,features=features)"
   ]
  },
  {
   "cell_type": "code",
   "execution_count": 59,
   "metadata": {},
   "outputs": [],
   "source": [
    "a,y_submission_prob = ensemble_model(train_X = X,train_y=y,test_X=X_submission)\n",
    "y_test_pred = np.where(y_submission_prob > threshold , 1, 0)"
   ]
  },
  {
   "cell_type": "code",
   "execution_count": 60,
   "metadata": {},
   "outputs": [
    {
     "data": {
      "text/plain": [
       "((418, 11), 418, 891, 418, (418, 9))"
      ]
     },
     "execution_count": 60,
     "metadata": {},
     "output_type": "execute_result"
    }
   ],
   "source": [
    "test.shape,len(y_test_pred),len(a),len(y_submission_prob),X_submission.shape"
   ]
  },
  {
   "cell_type": "code",
   "execution_count": 61,
   "metadata": {},
   "outputs": [],
   "source": [
    "test['Survived'] = y_test_pred"
   ]
  },
  {
   "cell_type": "code",
   "execution_count": 62,
   "metadata": {},
   "outputs": [
    {
     "data": {
      "text/html": [
       "<div>\n",
       "<style scoped>\n",
       "    .dataframe tbody tr th:only-of-type {\n",
       "        vertical-align: middle;\n",
       "    }\n",
       "\n",
       "    .dataframe tbody tr th {\n",
       "        vertical-align: top;\n",
       "    }\n",
       "\n",
       "    .dataframe thead th {\n",
       "        text-align: right;\n",
       "    }\n",
       "</style>\n",
       "<table border=\"1\" class=\"dataframe\">\n",
       "  <thead>\n",
       "    <tr style=\"text-align: right;\">\n",
       "      <th></th>\n",
       "      <th>PassengerId</th>\n",
       "      <th>Pclass</th>\n",
       "      <th>Name</th>\n",
       "      <th>Sex</th>\n",
       "      <th>Age</th>\n",
       "      <th>SibSp</th>\n",
       "      <th>Parch</th>\n",
       "      <th>Ticket</th>\n",
       "      <th>Fare</th>\n",
       "      <th>Cabin</th>\n",
       "      <th>Embarked</th>\n",
       "      <th>Survived</th>\n",
       "    </tr>\n",
       "  </thead>\n",
       "  <tbody>\n",
       "    <tr>\n",
       "      <th>113</th>\n",
       "      <td>1005</td>\n",
       "      <td>3</td>\n",
       "      <td>Buckley, Miss. Katherine</td>\n",
       "      <td>female</td>\n",
       "      <td>18.5</td>\n",
       "      <td>0</td>\n",
       "      <td>0</td>\n",
       "      <td>329944</td>\n",
       "      <td>7.2833</td>\n",
       "      <td>NaN</td>\n",
       "      <td>Q</td>\n",
       "      <td>1</td>\n",
       "    </tr>\n",
       "    <tr>\n",
       "      <th>328</th>\n",
       "      <td>1220</td>\n",
       "      <td>2</td>\n",
       "      <td>Clarke, Mr. Charles Valentine</td>\n",
       "      <td>male</td>\n",
       "      <td>29.0</td>\n",
       "      <td>1</td>\n",
       "      <td>0</td>\n",
       "      <td>2003</td>\n",
       "      <td>26.0000</td>\n",
       "      <td>NaN</td>\n",
       "      <td>S</td>\n",
       "      <td>0</td>\n",
       "    </tr>\n",
       "    <tr>\n",
       "      <th>197</th>\n",
       "      <td>1089</td>\n",
       "      <td>3</td>\n",
       "      <td>Nilsson, Miss. Berta Olivia</td>\n",
       "      <td>female</td>\n",
       "      <td>18.0</td>\n",
       "      <td>0</td>\n",
       "      <td>0</td>\n",
       "      <td>347066</td>\n",
       "      <td>7.7750</td>\n",
       "      <td>NaN</td>\n",
       "      <td>S</td>\n",
       "      <td>0</td>\n",
       "    </tr>\n",
       "    <tr>\n",
       "      <th>359</th>\n",
       "      <td>1251</td>\n",
       "      <td>3</td>\n",
       "      <td>Lindell, Mrs. Edvard Bengtsson (Elin Gerda Per...</td>\n",
       "      <td>female</td>\n",
       "      <td>30.0</td>\n",
       "      <td>1</td>\n",
       "      <td>0</td>\n",
       "      <td>349910</td>\n",
       "      <td>15.5500</td>\n",
       "      <td>NaN</td>\n",
       "      <td>S</td>\n",
       "      <td>0</td>\n",
       "    </tr>\n",
       "    <tr>\n",
       "      <th>397</th>\n",
       "      <td>1289</td>\n",
       "      <td>1</td>\n",
       "      <td>Frolicher-Stehli, Mrs. Maxmillian (Margaretha ...</td>\n",
       "      <td>female</td>\n",
       "      <td>48.0</td>\n",
       "      <td>1</td>\n",
       "      <td>1</td>\n",
       "      <td>13567</td>\n",
       "      <td>79.2000</td>\n",
       "      <td>B41</td>\n",
       "      <td>C</td>\n",
       "      <td>1</td>\n",
       "    </tr>\n",
       "  </tbody>\n",
       "</table>\n",
       "</div>"
      ],
      "text/plain": [
       "     PassengerId Pclass                                               Name  \\\n",
       "113         1005      3                           Buckley, Miss. Katherine   \n",
       "328         1220      2                      Clarke, Mr. Charles Valentine   \n",
       "197         1089      3                        Nilsson, Miss. Berta Olivia   \n",
       "359         1251      3  Lindell, Mrs. Edvard Bengtsson (Elin Gerda Per...   \n",
       "397         1289      1  Frolicher-Stehli, Mrs. Maxmillian (Margaretha ...   \n",
       "\n",
       "        Sex   Age  SibSp  Parch  Ticket     Fare Cabin Embarked  Survived  \n",
       "113  female  18.5      0      0  329944   7.2833   NaN        Q         1  \n",
       "328    male  29.0      1      0    2003  26.0000   NaN        S         0  \n",
       "197  female  18.0      0      0  347066   7.7750   NaN        S         0  \n",
       "359  female  30.0      1      0  349910  15.5500   NaN        S         0  \n",
       "397  female  48.0      1      1   13567  79.2000   B41        C         1  "
      ]
     },
     "execution_count": 62,
     "metadata": {},
     "output_type": "execute_result"
    }
   ],
   "source": [
    "test.sample(5)"
   ]
  },
  {
   "cell_type": "code",
   "execution_count": 63,
   "metadata": {},
   "outputs": [
    {
     "data": {
      "text/html": [
       "<div>\n",
       "<style scoped>\n",
       "    .dataframe tbody tr th:only-of-type {\n",
       "        vertical-align: middle;\n",
       "    }\n",
       "\n",
       "    .dataframe tbody tr th {\n",
       "        vertical-align: top;\n",
       "    }\n",
       "\n",
       "    .dataframe thead th {\n",
       "        text-align: right;\n",
       "    }\n",
       "</style>\n",
       "<table border=\"1\" class=\"dataframe\">\n",
       "  <thead>\n",
       "    <tr style=\"text-align: right;\">\n",
       "      <th></th>\n",
       "      <th>PassengerId</th>\n",
       "      <th>Survived</th>\n",
       "    </tr>\n",
       "  </thead>\n",
       "  <tbody>\n",
       "    <tr>\n",
       "      <th>0</th>\n",
       "      <td>892</td>\n",
       "      <td>0</td>\n",
       "    </tr>\n",
       "    <tr>\n",
       "      <th>1</th>\n",
       "      <td>893</td>\n",
       "      <td>1</td>\n",
       "    </tr>\n",
       "    <tr>\n",
       "      <th>2</th>\n",
       "      <td>894</td>\n",
       "      <td>0</td>\n",
       "    </tr>\n",
       "    <tr>\n",
       "      <th>3</th>\n",
       "      <td>895</td>\n",
       "      <td>0</td>\n",
       "    </tr>\n",
       "    <tr>\n",
       "      <th>4</th>\n",
       "      <td>896</td>\n",
       "      <td>1</td>\n",
       "    </tr>\n",
       "  </tbody>\n",
       "</table>\n",
       "</div>"
      ],
      "text/plain": [
       "   PassengerId  Survived\n",
       "0          892         0\n",
       "1          893         1\n",
       "2          894         0\n",
       "3          895         0\n",
       "4          896         1"
      ]
     },
     "execution_count": 63,
     "metadata": {},
     "output_type": "execute_result"
    }
   ],
   "source": [
    "submission = pd.read_csv('../../datasets/titanic/gender_submission.csv')\n",
    "submission.head()"
   ]
  },
  {
   "cell_type": "code",
   "execution_count": 64,
   "metadata": {},
   "outputs": [],
   "source": [
    "test[['PassengerId','Survived']].to_csv(\"gender_submission.csv\",index=False)"
   ]
  },
  {
   "cell_type": "code",
   "execution_count": null,
   "metadata": {},
   "outputs": [],
   "source": []
  }
 ],
 "metadata": {
  "kernelspec": {
   "display_name": "Python 3",
   "language": "python",
   "name": "python3"
  },
  "language_info": {
   "codemirror_mode": {
    "name": "ipython",
    "version": 3
   },
   "file_extension": ".py",
   "mimetype": "text/x-python",
   "name": "python",
   "nbconvert_exporter": "python",
   "pygments_lexer": "ipython3",
   "version": "3.6.6"
  }
 },
 "nbformat": 4,
 "nbformat_minor": 2
}

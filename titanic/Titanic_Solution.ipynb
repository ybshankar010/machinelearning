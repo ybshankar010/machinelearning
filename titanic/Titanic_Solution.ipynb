{
 "cells": [
  {
   "cell_type": "code",
   "execution_count": 2,
   "metadata": {},
   "outputs": [],
   "source": [
    "import re\n",
    "import pandas as pd\n",
    "import numpy as np\n",
    "import matplotlib.pyplot as plt\n",
    "import seaborn as sns\n",
    "from scipy import stats\n",
    "from sklearn import model_selection, preprocessing,linear_model, metrics, pipeline , ensemble,neighbors\n",
    "\n",
    "plt.style.use(\"ggplot\")\n",
    "plt.rcParams['figure.figsize'] = [10.0, 6.0]\n",
    "\n",
    "%matplotlib inline"
   ]
  },
  {
   "cell_type": "code",
   "execution_count": 3,
   "metadata": {},
   "outputs": [],
   "source": [
    "train = pd.read_csv('../../datasets/titanic/train.csv')\n",
    "test = pd.read_csv('../../datasets/titanic/test.csv')"
   ]
  },
  {
   "cell_type": "code",
   "execution_count": 4,
   "metadata": {},
   "outputs": [
    {
     "name": "stdout",
     "output_type": "stream",
     "text": [
      "<class 'pandas.core.frame.DataFrame'>\n",
      "RangeIndex: 891 entries, 0 to 890\n",
      "Data columns (total 12 columns):\n",
      "PassengerId    891 non-null int64\n",
      "Survived       891 non-null int64\n",
      "Pclass         891 non-null int64\n",
      "Name           891 non-null object\n",
      "Sex            891 non-null object\n",
      "Age            714 non-null float64\n",
      "SibSp          891 non-null int64\n",
      "Parch          891 non-null int64\n",
      "Ticket         891 non-null object\n",
      "Fare           891 non-null float64\n",
      "Cabin          204 non-null object\n",
      "Embarked       889 non-null object\n",
      "dtypes: float64(2), int64(5), object(5)\n",
      "memory usage: 83.6+ KB\n"
     ]
    }
   ],
   "source": [
    "train.info()"
   ]
  },
  {
   "cell_type": "code",
   "execution_count": 37,
   "metadata": {},
   "outputs": [],
   "source": [
    "def marital_status(cols):\n",
    "    name = cols['Name']\n",
    "    if \"Mr.\" in name or \"Mrs.\" in name:\n",
    "        return \"married\"\n",
    "    elif \"Miss.\" in name or \"Master.\" in name:\n",
    "        return \"unmarried\"\n",
    "    else:\n",
    "        return \"unknown\"\n",
    "\n",
    "def family_size(cols):\n",
    "    member_count = cols['Parch'] + cols['SibSp'] + 1\n",
    "    if member_count <= 1:\n",
    "        return \"single\"\n",
    "    elif member_count > 1 and member_count < 5:\n",
    "        return \"smallFamily\"\n",
    "    else:\n",
    "        return \"largeFamily\"\n",
    "\n",
    "def fareClass(cols):\n",
    "    fare = cols['Fare']\n",
    "    if (fare <= 15):\n",
    "        return 'lo'\n",
    "    elif ((fare > 15) & (fare <= 130)):\n",
    "        return 'medium'\n",
    "    elif ((fare > 130) & (fare <= 250)):\n",
    "        return 'high'\n",
    "    else:\n",
    "        return 'super-high'\n",
    "\n",
    "def featureEngineering(df):\n",
    "    # Data type conversion\n",
    "    df['Pclass'] = df['Pclass'].astype('object')\n",
    "    \n",
    "    # new column addition\n",
    "    df['Martal_status'] = df.apply(marital_status,axis=1)\n",
    "    df['Family_Size'] = df.apply(family_size,axis=1)\n",
    "    df['Fare_Class'] = df.apply(fareClass,axis=1)\n",
    "    return df"
   ]
  },
  {
   "cell_type": "code",
   "execution_count": 38,
   "metadata": {},
   "outputs": [],
   "source": [
    "train = featureEngineering(train)\n",
    "test = featureEngineering(test)"
   ]
  },
  {
   "cell_type": "code",
   "execution_count": 39,
   "metadata": {},
   "outputs": [],
   "source": [
    "# train['Pclass'] = train['Pclass'].astype('object')\n",
    "# test['Pclass'] = test['Pclass'].astype('object')\n",
    "# ## Feature engineering\n",
    "# train['Martal_status'] = train.apply(marital_status,axis=1)\n",
    "# train['Family_Size'] = train.apply(family_size,axis=1)\n",
    "# train['Fare_Class'] = train.apply(fareClass,axis=1)\n",
    "\n",
    "# test['Martal_status'] = test.apply(marital_status,axis=1)\n",
    "# test['Family_Size'] = test.apply(family_size,axis=1)\n",
    "# test['Fare_Class'] = test.apply(fareClass,axis=1)"
   ]
  },
  {
   "cell_type": "code",
   "execution_count": 40,
   "metadata": {},
   "outputs": [
    {
     "data": {
      "text/plain": [
       "(['Pclass',\n",
       "  'Sex',\n",
       "  'Age',\n",
       "  'Embarked',\n",
       "  'Martal_status',\n",
       "  'Family_Size',\n",
       "  'Fare_Class'],\n",
       " 'Survived')"
      ]
     },
     "execution_count": 40,
     "metadata": {},
     "output_type": "execute_result"
    }
   ],
   "source": [
    "target = 'Survived'\n",
    "features = list(train.columns)\n",
    "features.remove('PassengerId')\n",
    "features.remove('Name')\n",
    "features.remove('Cabin')\n",
    "features.remove('Ticket')\n",
    "features.remove('Parch')\n",
    "features.remove('SibSp')\n",
    "features.remove('Fare')\n",
    "features.remove(target)\n",
    "features , target"
   ]
  },
  {
   "cell_type": "code",
   "execution_count": 41,
   "metadata": {},
   "outputs": [],
   "source": [
    "medians = train.dropna().groupby('Pclass')['Age'].median()\n",
    "for i in train[train['Age'].isnull()].index:\n",
    "    train.loc[i,'Age'] = medians[train.loc[i,'Pclass']]\n",
    "    \n",
    "for i in test[test['Age'].isnull()].index:\n",
    "    test.loc[i,'Age'] = medians[test.loc[i,'Pclass']]\n",
    "    \n",
    "max_fare = np.max(train['Fare'])\n",
    "fare_mean = train[train.Fare != max_fare].Fare.mean()\n",
    "for i in test[test['Fare'].isnull()].index:\n",
    "    test.loc[i,'Fare'] = fare_mean"
   ]
  },
  {
   "cell_type": "code",
   "execution_count": 42,
   "metadata": {},
   "outputs": [],
   "source": [
    "def preprocess(df,features = None,target = None):\n",
    "    X = df.loc[:,features]\n",
    "    X = pd.get_dummies(X, drop_first= True)\n",
    "    y = []\n",
    "    if target != None:\n",
    "        y = df.loc[:,target]\n",
    "    \n",
    "    return X,y"
   ]
  },
  {
   "cell_type": "code",
   "execution_count": 43,
   "metadata": {},
   "outputs": [],
   "source": [
    "def lr_model(train_X,train_y,test_X):\n",
    "    est = pipeline.Pipeline([\n",
    "        (\"poly\", preprocessing.PolynomialFeatures(degree=2, include_bias=False)),\n",
    "        (\"scaler\", preprocessing.StandardScaler()),\n",
    "        (\"lr\", linear_model.LogisticRegression(random_state=1,penalty='l1'))\n",
    "    ])\n",
    "    est.fit(train_X,train_y)\n",
    "\n",
    "    y_train_pred = est.predict(train_X)\n",
    "    y_train_prob = est.predict_proba(train_X)[:,1]\n",
    "    \n",
    "    y_test_pred = est.predict(test_X)\n",
    "    y_test_prob = est.predict_proba(test_X)[:,1]\n",
    "    return y_train_prob,y_test_prob\n",
    "\n",
    "def rf_model(train_X,train_y,test_X):\n",
    "    est = pipeline.Pipeline([\n",
    "#         (\"poly\", preprocessing.PolynomialFeatures(degree=2, include_bias=False)),\n",
    "#         (\"scaler\", preprocessing.StandardScaler()),\n",
    "        (\"rf\", ensemble.RandomForestClassifier(random_state=1))\n",
    "    ])\n",
    "    est.fit(train_X,train_y)\n",
    "\n",
    "    y_train_pred = est.predict(train_X)\n",
    "    y_train_prob = est.predict_proba(train_X)[:,1]\n",
    "    \n",
    "    y_test_pred = est.predict(test_X)\n",
    "    y_test_prob = est.predict_proba(test_X)[:,1]\n",
    "    return y_train_prob,y_test_prob\n",
    "\n",
    "def knn_model(train_X,train_y,test_X):\n",
    "    est = pipeline.Pipeline([\n",
    "#         (\"poly\", preprocessing.PolynomialFeatures(degree=2, include_bias=False)),\n",
    "        (\"scaler\", preprocessing.StandardScaler()),\n",
    "        (\"knn\", neighbors.KNeighborsClassifier(n_neighbors=10))\n",
    "    ])\n",
    "    est.fit(train_X,train_y)\n",
    "\n",
    "    y_train_pred = est.predict(train_X)\n",
    "    y_train_prob = est.predict_proba(train_X)[:,1]\n",
    "    \n",
    "    y_test_pred = est.predict(test_X)\n",
    "    y_test_prob = est.predict_proba(test_X)[:,1]\n",
    "    return y_train_prob,y_test_prob\n",
    "\n",
    "def ensemble_model(train_X,train_y,test_X):\n",
    "    clf1 = pipeline.Pipeline([\n",
    "#         (\"poly\", preprocessing.PolynomialFeatures(degree=2, include_bias=False)),\n",
    "        (\"scaler\", preprocessing.StandardScaler()),\n",
    "        (\"lr\", linear_model.LogisticRegression(random_state=1,penalty='l1'))\n",
    "    ])\n",
    "    \n",
    "    clf2 = pipeline.Pipeline([\n",
    "        (\"rf\", ensemble.RandomForestClassifier(random_state=1))\n",
    "    ])\n",
    "    \n",
    "    clf3 = pipeline.Pipeline([\n",
    "        (\"scaler\", preprocessing.StandardScaler()),\n",
    "        (\"knn\", neighbors.KNeighborsClassifier(n_neighbors=10))\n",
    "    ])\n",
    "    \n",
    "    est = ensemble.VotingClassifier(estimators=[(\"lr\",clf1),(\"rf\",clf2),(\"knn\",clf3)],voting='soft')\n",
    "    est.fit(train_X,train_y)\n",
    "\n",
    "    y_train_pred = est.predict(train_X)\n",
    "    y_train_prob = est.predict_proba(train_X)[:,1]\n",
    "    \n",
    "    y_test_pred = est.predict(test_X)\n",
    "    y_test_prob = est.predict_proba(test_X)[:,1]\n",
    "    return y_train_prob,y_test_prob"
   ]
  },
  {
   "cell_type": "code",
   "execution_count": 44,
   "metadata": {},
   "outputs": [],
   "source": [
    "def print_val(y_test,y_pred_prob,threshold = 0.5):\n",
    "    y_test_pred = np.where(y_pred_prob > threshold , 1, 0)\n",
    "    \n",
    "    print(\"Accuracy :: %.3f\" % metrics.accuracy_score(y_true=y_test,y_pred=y_test_pred))\n",
    "    print(\"Precision :: %.3f\" % metrics.precision_score(y_true=y_test,y_pred=y_test_pred))\n",
    "    print(\"Recall :: %.3f\" % metrics.recall_score(y_true=y_test,y_pred=y_test_pred))\n",
    "    \n",
    "    confusion_matrix = metrics.confusion_matrix(y_true=y_test,y_pred=y_test_pred)\n",
    "    print(confusion_matrix)\n",
    "    return\n",
    "    "
   ]
  },
  {
   "cell_type": "code",
   "execution_count": 45,
   "metadata": {},
   "outputs": [],
   "source": [
    "X,y = preprocess(train,features=features,target=target)"
   ]
  },
  {
   "cell_type": "code",
   "execution_count": 46,
   "metadata": {},
   "outputs": [
    {
     "data": {
      "text/plain": [
       "((891, 13), (891,))"
      ]
     },
     "execution_count": 46,
     "metadata": {},
     "output_type": "execute_result"
    }
   ],
   "source": [
    "X.shape,y.shape"
   ]
  },
  {
   "cell_type": "code",
   "execution_count": 47,
   "metadata": {},
   "outputs": [
    {
     "data": {
      "text/html": [
       "<div>\n",
       "<style scoped>\n",
       "    .dataframe tbody tr th:only-of-type {\n",
       "        vertical-align: middle;\n",
       "    }\n",
       "\n",
       "    .dataframe tbody tr th {\n",
       "        vertical-align: top;\n",
       "    }\n",
       "\n",
       "    .dataframe thead th {\n",
       "        text-align: right;\n",
       "    }\n",
       "</style>\n",
       "<table border=\"1\" class=\"dataframe\">\n",
       "  <thead>\n",
       "    <tr style=\"text-align: right;\">\n",
       "      <th></th>\n",
       "      <th>Age</th>\n",
       "      <th>Pclass_2</th>\n",
       "      <th>Pclass_3</th>\n",
       "      <th>Sex_male</th>\n",
       "      <th>Embarked_Q</th>\n",
       "      <th>Embarked_S</th>\n",
       "      <th>Martal_status_unknown</th>\n",
       "      <th>Martal_status_unmarried</th>\n",
       "      <th>Family_Size_single</th>\n",
       "      <th>Family_Size_smallFamily</th>\n",
       "      <th>Fare_Class_lo</th>\n",
       "      <th>Fare_Class_medium</th>\n",
       "      <th>Fare_Class_super-high</th>\n",
       "    </tr>\n",
       "  </thead>\n",
       "  <tbody>\n",
       "    <tr>\n",
       "      <th>0</th>\n",
       "      <td>22.0</td>\n",
       "      <td>0</td>\n",
       "      <td>1</td>\n",
       "      <td>1</td>\n",
       "      <td>0</td>\n",
       "      <td>1</td>\n",
       "      <td>0</td>\n",
       "      <td>0</td>\n",
       "      <td>0</td>\n",
       "      <td>1</td>\n",
       "      <td>1</td>\n",
       "      <td>0</td>\n",
       "      <td>0</td>\n",
       "    </tr>\n",
       "    <tr>\n",
       "      <th>1</th>\n",
       "      <td>38.0</td>\n",
       "      <td>0</td>\n",
       "      <td>0</td>\n",
       "      <td>0</td>\n",
       "      <td>0</td>\n",
       "      <td>0</td>\n",
       "      <td>0</td>\n",
       "      <td>0</td>\n",
       "      <td>0</td>\n",
       "      <td>1</td>\n",
       "      <td>0</td>\n",
       "      <td>1</td>\n",
       "      <td>0</td>\n",
       "    </tr>\n",
       "    <tr>\n",
       "      <th>2</th>\n",
       "      <td>26.0</td>\n",
       "      <td>0</td>\n",
       "      <td>1</td>\n",
       "      <td>0</td>\n",
       "      <td>0</td>\n",
       "      <td>1</td>\n",
       "      <td>0</td>\n",
       "      <td>1</td>\n",
       "      <td>1</td>\n",
       "      <td>0</td>\n",
       "      <td>1</td>\n",
       "      <td>0</td>\n",
       "      <td>0</td>\n",
       "    </tr>\n",
       "    <tr>\n",
       "      <th>3</th>\n",
       "      <td>35.0</td>\n",
       "      <td>0</td>\n",
       "      <td>0</td>\n",
       "      <td>0</td>\n",
       "      <td>0</td>\n",
       "      <td>1</td>\n",
       "      <td>0</td>\n",
       "      <td>0</td>\n",
       "      <td>0</td>\n",
       "      <td>1</td>\n",
       "      <td>0</td>\n",
       "      <td>1</td>\n",
       "      <td>0</td>\n",
       "    </tr>\n",
       "    <tr>\n",
       "      <th>4</th>\n",
       "      <td>35.0</td>\n",
       "      <td>0</td>\n",
       "      <td>1</td>\n",
       "      <td>1</td>\n",
       "      <td>0</td>\n",
       "      <td>1</td>\n",
       "      <td>0</td>\n",
       "      <td>0</td>\n",
       "      <td>1</td>\n",
       "      <td>0</td>\n",
       "      <td>1</td>\n",
       "      <td>0</td>\n",
       "      <td>0</td>\n",
       "    </tr>\n",
       "  </tbody>\n",
       "</table>\n",
       "</div>"
      ],
      "text/plain": [
       "    Age  Pclass_2  Pclass_3  Sex_male  Embarked_Q  Embarked_S  \\\n",
       "0  22.0         0         1         1           0           1   \n",
       "1  38.0         0         0         0           0           0   \n",
       "2  26.0         0         1         0           0           1   \n",
       "3  35.0         0         0         0           0           1   \n",
       "4  35.0         0         1         1           0           1   \n",
       "\n",
       "   Martal_status_unknown  Martal_status_unmarried  Family_Size_single  \\\n",
       "0                      0                        0                   0   \n",
       "1                      0                        0                   0   \n",
       "2                      0                        1                   1   \n",
       "3                      0                        0                   0   \n",
       "4                      0                        0                   1   \n",
       "\n",
       "   Family_Size_smallFamily  Fare_Class_lo  Fare_Class_medium  \\\n",
       "0                        1              1                  0   \n",
       "1                        1              0                  1   \n",
       "2                        0              1                  0   \n",
       "3                        1              0                  1   \n",
       "4                        0              1                  0   \n",
       "\n",
       "   Fare_Class_super-high  \n",
       "0                      0  \n",
       "1                      0  \n",
       "2                      0  \n",
       "3                      0  \n",
       "4                      0  "
      ]
     },
     "execution_count": 47,
     "metadata": {},
     "output_type": "execute_result"
    }
   ],
   "source": [
    "X.head()"
   ]
  },
  {
   "cell_type": "code",
   "execution_count": 48,
   "metadata": {},
   "outputs": [],
   "source": [
    "X_train, X_test, y_train,y_test = model_selection.train_test_split(X,y, test_size = 0.3, random_state = 1)"
   ]
  },
  {
   "cell_type": "code",
   "execution_count": 49,
   "metadata": {},
   "outputs": [
    {
     "name": "stderr",
     "output_type": "stream",
     "text": [
      "E:\\AppData\\Local\\Continuum\\lib\\site-packages\\sklearn\\preprocessing\\label.py:151: DeprecationWarning: The truth value of an empty array is ambiguous. Returning False, but in future this will result in an error. Use `array.size > 0` to check that an array is not empty.\n",
      "  if diff:\n",
      "E:\\AppData\\Local\\Continuum\\lib\\site-packages\\sklearn\\preprocessing\\label.py:151: DeprecationWarning: The truth value of an empty array is ambiguous. Returning False, but in future this will result in an error. Use `array.size > 0` to check that an array is not empty.\n",
      "  if diff:\n"
     ]
    }
   ],
   "source": [
    "lr_train_prob,lr_test_prob = lr_model(X_train,y_train,X_test)\n",
    "rf_train_prob,rf_test_prob = rf_model(X_train,y_train,X_test)\n",
    "knn_train_prob,knn_test_prob = knn_model(X_train,y_train,X_test)\n",
    "ensemble_train_prob,ensemble_test_prob = ensemble_model(X_train,y_train,X_test)"
   ]
  },
  {
   "cell_type": "code",
   "execution_count": 50,
   "metadata": {},
   "outputs": [
    {
     "data": {
      "text/plain": [
       "Text(0.5,1,'ROC, auc: 0.850583')"
      ]
     },
     "execution_count": 50,
     "metadata": {},
     "output_type": "execute_result"
    },
    {
     "data": {
      "image/png": "[encoded data removed]",
      "text/plain": [
       "<Figure size 432x288 with 1 Axes>"
      ]
     },
     "metadata": {},
     "output_type": "display_data"
    }
   ],
   "source": [
    "fpr, tpr, threshold = metrics.roc_curve(y_test, ensemble_test_prob)\n",
    "\n",
    "plt.plot(fpr, tpr)\n",
    "plt.xlabel(\"FPR\")\n",
    "plt.ylabel(\"TPR\")\n",
    "plt.title(\"ROC, auc: %f\" % (metrics.auc(fpr, tpr)))"
   ]
  },
  {
   "cell_type": "code",
   "execution_count": 51,
   "metadata": {},
   "outputs": [
    {
     "name": "stdout",
     "output_type": "stream",
     "text": [
      "--------Train------------\n",
      "Accuracy :: 0.902\n",
      "Precision :: 0.888\n",
      "Recall :: 0.837\n",
      "[[372  24]\n",
      " [ 37 190]]\n",
      "--------Test------------\n",
      "Accuracy :: 0.791\n",
      "Precision :: 0.792\n",
      "Recall :: 0.696\n",
      "[[132  21]\n",
      " [ 35  80]]\n"
     ]
    }
   ],
   "source": [
    "threshold = 0.45\n",
    "y_train_prob = ensemble_train_prob \n",
    "y_test_prob = ensemble_test_prob\n",
    "print(\"--------Train------------\")\n",
    "print_val(y_train,y_train_prob,threshold)\n",
    "print(\"--------Test------------\")\n",
    "print_val(y_test,y_test_prob,threshold)"
   ]
  },
  {
   "cell_type": "code",
   "execution_count": 52,
   "metadata": {
    "scrolled": true
   },
   "outputs": [],
   "source": [
    "X_submission,y_submission = preprocess(test,features=features)"
   ]
  },
  {
   "cell_type": "code",
   "execution_count": 53,
   "metadata": {},
   "outputs": [
    {
     "name": "stderr",
     "output_type": "stream",
     "text": [
      "E:\\AppData\\Local\\Continuum\\lib\\site-packages\\sklearn\\preprocessing\\label.py:151: DeprecationWarning: The truth value of an empty array is ambiguous. Returning False, but in future this will result in an error. Use `array.size > 0` to check that an array is not empty.\n",
      "  if diff:\n",
      "E:\\AppData\\Local\\Continuum\\lib\\site-packages\\sklearn\\preprocessing\\label.py:151: DeprecationWarning: The truth value of an empty array is ambiguous. Returning False, but in future this will result in an error. Use `array.size > 0` to check that an array is not empty.\n",
      "  if diff:\n"
     ]
    }
   ],
   "source": [
    "_,y_submission_prob = ensemble_model(train_X = X,train_y=y,test_X=X_submission)\n",
    "y_test_pred = np.where(y_submission_prob > threshold , 1, 0)"
   ]
  },
  {
   "cell_type": "code",
   "execution_count": 55,
   "metadata": {},
   "outputs": [],
   "source": [
    "# test.shape,len(y_test_pred),len(a),len(y_submission_prob),X_submission.shape"
   ]
  },
  {
   "cell_type": "code",
   "execution_count": 56,
   "metadata": {},
   "outputs": [],
   "source": [
    "test['Survived'] = y_test_pred"
   ]
  },
  {
   "cell_type": "code",
   "execution_count": 57,
   "metadata": {},
   "outputs": [
    {
     "data": {
      "text/html": [
       "<div>\n",
       "<style scoped>\n",
       "    .dataframe tbody tr th:only-of-type {\n",
       "        vertical-align: middle;\n",
       "    }\n",
       "\n",
       "    .dataframe tbody tr th {\n",
       "        vertical-align: top;\n",
       "    }\n",
       "\n",
       "    .dataframe thead th {\n",
       "        text-align: right;\n",
       "    }\n",
       "</style>\n",
       "<table border=\"1\" class=\"dataframe\">\n",
       "  <thead>\n",
       "    <tr style=\"text-align: right;\">\n",
       "      <th></th>\n",
       "      <th>PassengerId</th>\n",
       "      <th>Pclass</th>\n",
       "      <th>Name</th>\n",
       "      <th>Sex</th>\n",
       "      <th>Age</th>\n",
       "      <th>SibSp</th>\n",
       "      <th>Parch</th>\n",
       "      <th>Ticket</th>\n",
       "      <th>Fare</th>\n",
       "      <th>Cabin</th>\n",
       "      <th>Embarked</th>\n",
       "      <th>Martal_status</th>\n",
       "      <th>Family_Size</th>\n",
       "      <th>Fare_Class</th>\n",
       "      <th>Survived</th>\n",
       "    </tr>\n",
       "  </thead>\n",
       "  <tbody>\n",
       "    <tr>\n",
       "      <th>276</th>\n",
       "      <td>1168</td>\n",
       "      <td>2</td>\n",
       "      <td>Parker, Mr. Clifford Richard</td>\n",
       "      <td>male</td>\n",
       "      <td>28.0</td>\n",
       "      <td>0</td>\n",
       "      <td>0</td>\n",
       "      <td>SC 14888</td>\n",
       "      <td>10.5000</td>\n",
       "      <td>NaN</td>\n",
       "      <td>S</td>\n",
       "      <td>married</td>\n",
       "      <td>single</td>\n",
       "      <td>lo</td>\n",
       "      <td>0</td>\n",
       "    </tr>\n",
       "    <tr>\n",
       "      <th>63</th>\n",
       "      <td>955</td>\n",
       "      <td>3</td>\n",
       "      <td>Bradley, Miss. Bridget Delia</td>\n",
       "      <td>female</td>\n",
       "      <td>22.0</td>\n",
       "      <td>0</td>\n",
       "      <td>0</td>\n",
       "      <td>334914</td>\n",
       "      <td>7.7250</td>\n",
       "      <td>NaN</td>\n",
       "      <td>Q</td>\n",
       "      <td>unmarried</td>\n",
       "      <td>single</td>\n",
       "      <td>lo</td>\n",
       "      <td>1</td>\n",
       "    </tr>\n",
       "    <tr>\n",
       "      <th>412</th>\n",
       "      <td>1304</td>\n",
       "      <td>3</td>\n",
       "      <td>Henriksson, Miss. Jenny Lovisa</td>\n",
       "      <td>female</td>\n",
       "      <td>28.0</td>\n",
       "      <td>0</td>\n",
       "      <td>0</td>\n",
       "      <td>347086</td>\n",
       "      <td>7.7750</td>\n",
       "      <td>NaN</td>\n",
       "      <td>S</td>\n",
       "      <td>unmarried</td>\n",
       "      <td>single</td>\n",
       "      <td>lo</td>\n",
       "      <td>1</td>\n",
       "    </tr>\n",
       "    <tr>\n",
       "      <th>151</th>\n",
       "      <td>1043</td>\n",
       "      <td>3</td>\n",
       "      <td>Matinoff, Mr. Nicola</td>\n",
       "      <td>male</td>\n",
       "      <td>24.5</td>\n",
       "      <td>0</td>\n",
       "      <td>0</td>\n",
       "      <td>349255</td>\n",
       "      <td>7.8958</td>\n",
       "      <td>NaN</td>\n",
       "      <td>C</td>\n",
       "      <td>married</td>\n",
       "      <td>single</td>\n",
       "      <td>lo</td>\n",
       "      <td>0</td>\n",
       "    </tr>\n",
       "    <tr>\n",
       "      <th>121</th>\n",
       "      <td>1013</td>\n",
       "      <td>3</td>\n",
       "      <td>Kiernan, Mr. John</td>\n",
       "      <td>male</td>\n",
       "      <td>24.5</td>\n",
       "      <td>1</td>\n",
       "      <td>0</td>\n",
       "      <td>367227</td>\n",
       "      <td>7.7500</td>\n",
       "      <td>NaN</td>\n",
       "      <td>Q</td>\n",
       "      <td>married</td>\n",
       "      <td>smallFamily</td>\n",
       "      <td>lo</td>\n",
       "      <td>0</td>\n",
       "    </tr>\n",
       "  </tbody>\n",
       "</table>\n",
       "</div>"
      ],
      "text/plain": [
       "     PassengerId Pclass                            Name     Sex   Age  SibSp  \\\n",
       "276         1168      2    Parker, Mr. Clifford Richard    male  28.0      0   \n",
       "63           955      3    Bradley, Miss. Bridget Delia  female  22.0      0   \n",
       "412         1304      3  Henriksson, Miss. Jenny Lovisa  female  28.0      0   \n",
       "151         1043      3            Matinoff, Mr. Nicola    male  24.5      0   \n",
       "121         1013      3               Kiernan, Mr. John    male  24.5      1   \n",
       "\n",
       "     Parch    Ticket     Fare Cabin Embarked Martal_status  Family_Size  \\\n",
       "276      0  SC 14888  10.5000   NaN        S       married       single   \n",
       "63       0    334914   7.7250   NaN        Q     unmarried       single   \n",
       "412      0    347086   7.7750   NaN        S     unmarried       single   \n",
       "151      0    349255   7.8958   NaN        C       married       single   \n",
       "121      0    367227   7.7500   NaN        Q       married  smallFamily   \n",
       "\n",
       "    Fare_Class  Survived  \n",
       "276         lo         0  \n",
       "63          lo         1  \n",
       "412         lo         1  \n",
       "151         lo         0  \n",
       "121         lo         0  "
      ]
     },
     "execution_count": 57,
     "metadata": {},
     "output_type": "execute_result"
    }
   ],
   "source": [
    "test.sample(5)"
   ]
  },
  {
   "cell_type": "code",
   "execution_count": null,
   "metadata": {},
   "outputs": [],
   "source": [
    "submission = pd.read_csv('../../datasets/titanic/gender_submission.csv')\n",
    "submission.head()"
   ]
  },
  {
   "cell_type": "code",
   "execution_count": null,
   "metadata": {},
   "outputs": [],
   "source": [
    "test[['PassengerId','Survived']].to_csv(\"gender_submission.csv\",index=False)"
   ]
  },
  {
   "cell_type": "code",
   "execution_count": null,
   "metadata": {},
   "outputs": [],
   "source": []
  },
  {
   "cell_type": "code",
   "execution_count": null,
   "metadata": {},
   "outputs": [],
   "source": []
  }
 ],
 "metadata": {
  "kernelspec": {
   "display_name": "Python 3",
   "language": "python",
   "name": "python3"
  },
  "language_info": {
   "codemirror_mode": {
    "name": "ipython",
    "version": 3
   },
   "file_extension": ".py",
   "mimetype": "text/x-python",
   "name": "python",
   "nbconvert_exporter": "python",
   "pygments_lexer": "ipython3",
   "version": "3.6.6"
  }
 },
 "nbformat": 4,
 "nbformat_minor": 2
}
